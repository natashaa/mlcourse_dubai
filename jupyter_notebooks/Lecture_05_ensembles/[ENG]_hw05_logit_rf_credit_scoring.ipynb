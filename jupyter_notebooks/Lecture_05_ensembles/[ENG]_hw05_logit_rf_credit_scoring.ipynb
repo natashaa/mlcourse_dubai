{
 "cells": [
  {
   "cell_type": "markdown",
   "metadata": {},
   "source": [
    "<center>\n",
    "<img src=\"../../img/ods_stickers.jpg\">\n",
    "## Open Machine Learning Course\n",
    "<center>\n",
    "Author: Vitaly Radchenko, Data Scientist at YouScan\n",
    "\n",
    "This material is subject to the terms and conditions of the license [Creative Commons CC BY-NC-SA 4.0](https://creativecommons.org/licenses/by-nc-sa/4.0/). Free use is permitted for any non-comercial purpose with an obligatory indication of the names of the authors and of the source."
   ]
  },
  {
   "cell_type": "markdown",
   "metadata": {},
   "source": [
    "# <center>Assignment # 5</center>\n",
    "## <center>Logistic Regression and Random Forest in the credit scoring problem</center>  "
   ]
  },
  {
   "cell_type": "markdown",
   "metadata": {},
   "source": [
    "In this assignment, you will build models and answer questions using data on credit scoring.\n",
    "\n",
    "Please write your code in the cells with the \"Your code here\" placeholder. Then, answer the questions in the [form](https://drive.google.com/open?id=1P9SAkIRUiznVJd1bzAqRG5AoIpwPfUo3SHfQtDV_tPw).\n",
    "\n",
    "Let's start with a warm-up exercise."
   ]
  },
  {
   "cell_type": "markdown",
   "metadata": {},
   "source": [
    "**Question 1.** There are 5 jurors in a courtroom. Each of them can correctly identify the guilt of the defendant with 70% probability, independent of one another. What is the probability that the jurors will jointly reach the correct verdict if the final decision is by majority vote?\n",
    "\n",
    "1. 70.00%\n",
    "2. 83.20%\n",
    "3. 83.70%\n",
    "4. 87.50%"
   ]
  },
  {
   "cell_type": "markdown",
   "metadata": {},
   "source": [
    "$$ \\large \\mu = \\sum_{i=m}^{N}{N\\choose i}p^i(1-p)^{N-i} $$"
   ]
  },
  {
   "cell_type": "code",
   "execution_count": 63,
   "metadata": {},
   "outputs": [
    {
     "name": "stdout",
     "output_type": "stream",
     "text": [
      "I am not too sure how to compute it using the above formula\n"
     ]
    }
   ],
   "source": [
    "import math\n",
    "N = 5\n",
    "m = math.floor(N/2)+1\n",
    "p = 0.7\n",
    "print('I am not too sure how to compute it using the above formula')"
   ]
  },
  {
   "cell_type": "markdown",
   "metadata": {},
   "source": [
    "Great! Let's move on to machine learning.\n",
    "\n",
    "## Credit scoring problem setup\n",
    "\n",
    "#### Problem\n",
    "\n",
    "Predict whether the customer will repay their credit within 90 days. This is a binary classification problem; we will assign customers into good or bad categories based on our prediction.\n",
    "\n",
    "#### Data description\n",
    "\n",
    "| Feature | Variable Type | Value Type | Description |\n",
    "|:--------|:--------------|:-----------|:------------|\n",
    "| age | Input Feature | integer | Customer age |\n",
    "| DebtRatio | Input Feature | real | Total monthly loan payments (loan, alimony, etc.) / Total monthly income percentage |\n",
    "| NumberOfTime30-59DaysPastDueNotWorse | Input Feature | integer | The number of cases when client has overdue 30-59 days (not worse) on other loans during the last 2 years |\n",
    "| NumberOfTimes90DaysLate | Input Feature | integer | Number of cases when customer had 90+dpd overdue on other credits |\n",
    "| NumberOfTime60-89DaysPastDueNotWorse | Input Feature | integer | Number of cased when customer has 60-89dpd (not worse) during the last 2 years |\n",
    "| NumberOfDependents | Input Feature | integer | The number of customer dependents |\n",
    "| SeriousDlqin2yrs | Target Variable | binary: <br>0 or 1 | Customer hasn't paid the loan debt within 90 days |\n"
   ]
  },
  {
   "cell_type": "code",
   "execution_count": null,
   "metadata": {},
   "outputs": [],
   "source": []
  },
  {
   "cell_type": "markdown",
   "metadata": {},
   "source": [
    "Let's set up our environment:"
   ]
  },
  {
   "cell_type": "code",
   "execution_count": 1,
   "metadata": {},
   "outputs": [],
   "source": [
    "# Disable warnings in Anaconda\n",
    "import warnings\n",
    "warnings.filterwarnings('ignore')\n",
    "\n",
    "import numpy as np\n",
    "import pandas as pd\n",
    "%matplotlib inline\n",
    "import matplotlib.pyplot as plt\n",
    "import seaborn as sns\n",
    "sns.set()"
   ]
  },
  {
   "cell_type": "code",
   "execution_count": 2,
   "metadata": {},
   "outputs": [],
   "source": [
    "from matplotlib import rcParams\n",
    "rcParams['figure.figsize'] = 11, 8"
   ]
  },
  {
   "cell_type": "markdown",
   "metadata": {},
   "source": [
    "Let's write the function that will replace *NaN* values with the median for each column."
   ]
  },
  {
   "cell_type": "code",
   "execution_count": 3,
   "metadata": {},
   "outputs": [],
   "source": [
    "def fill_nan(table):\n",
    "    for col in table.columns:\n",
    "        table[col] = table[col].fillna(table[col].median())\n",
    "    return table   "
   ]
  },
  {
   "cell_type": "markdown",
   "metadata": {},
   "source": [
    "Now, read the data:"
   ]
  },
  {
   "cell_type": "code",
   "execution_count": 4,
   "metadata": {},
   "outputs": [
    {
     "data": {
      "text/html": [
       "<div>\n",
       "<style scoped>\n",
       "    .dataframe tbody tr th:only-of-type {\n",
       "        vertical-align: middle;\n",
       "    }\n",
       "\n",
       "    .dataframe tbody tr th {\n",
       "        vertical-align: top;\n",
       "    }\n",
       "\n",
       "    .dataframe thead th {\n",
       "        text-align: right;\n",
       "    }\n",
       "</style>\n",
       "<table border=\"1\" class=\"dataframe\">\n",
       "  <thead>\n",
       "    <tr style=\"text-align: right;\">\n",
       "      <th></th>\n",
       "      <th>SeriousDlqin2yrs</th>\n",
       "      <th>age</th>\n",
       "      <th>NumberOfTime30-59DaysPastDueNotWorse</th>\n",
       "      <th>DebtRatio</th>\n",
       "      <th>NumberOfTimes90DaysLate</th>\n",
       "      <th>NumberOfTime60-89DaysPastDueNotWorse</th>\n",
       "      <th>MonthlyIncome</th>\n",
       "      <th>NumberOfDependents</th>\n",
       "    </tr>\n",
       "  </thead>\n",
       "  <tbody>\n",
       "    <tr>\n",
       "      <th>0</th>\n",
       "      <td>0</td>\n",
       "      <td>64</td>\n",
       "      <td>0</td>\n",
       "      <td>0.249908</td>\n",
       "      <td>0</td>\n",
       "      <td>0</td>\n",
       "      <td>8158.0</td>\n",
       "      <td>0.0</td>\n",
       "    </tr>\n",
       "    <tr>\n",
       "      <th>1</th>\n",
       "      <td>0</td>\n",
       "      <td>58</td>\n",
       "      <td>0</td>\n",
       "      <td>3870.000000</td>\n",
       "      <td>0</td>\n",
       "      <td>0</td>\n",
       "      <td>NaN</td>\n",
       "      <td>0.0</td>\n",
       "    </tr>\n",
       "    <tr>\n",
       "      <th>2</th>\n",
       "      <td>0</td>\n",
       "      <td>41</td>\n",
       "      <td>0</td>\n",
       "      <td>0.456127</td>\n",
       "      <td>0</td>\n",
       "      <td>0</td>\n",
       "      <td>6666.0</td>\n",
       "      <td>0.0</td>\n",
       "    </tr>\n",
       "    <tr>\n",
       "      <th>3</th>\n",
       "      <td>0</td>\n",
       "      <td>43</td>\n",
       "      <td>0</td>\n",
       "      <td>0.000190</td>\n",
       "      <td>0</td>\n",
       "      <td>0</td>\n",
       "      <td>10500.0</td>\n",
       "      <td>2.0</td>\n",
       "    </tr>\n",
       "    <tr>\n",
       "      <th>4</th>\n",
       "      <td>1</td>\n",
       "      <td>49</td>\n",
       "      <td>0</td>\n",
       "      <td>0.271820</td>\n",
       "      <td>0</td>\n",
       "      <td>0</td>\n",
       "      <td>400.0</td>\n",
       "      <td>0.0</td>\n",
       "    </tr>\n",
       "  </tbody>\n",
       "</table>\n",
       "</div>"
      ],
      "text/plain": [
       "   SeriousDlqin2yrs  age  NumberOfTime30-59DaysPastDueNotWorse    DebtRatio  \\\n",
       "0                 0   64                                     0     0.249908   \n",
       "1                 0   58                                     0  3870.000000   \n",
       "2                 0   41                                     0     0.456127   \n",
       "3                 0   43                                     0     0.000190   \n",
       "4                 1   49                                     0     0.271820   \n",
       "\n",
       "   NumberOfTimes90DaysLate  NumberOfTime60-89DaysPastDueNotWorse  \\\n",
       "0                        0                                     0   \n",
       "1                        0                                     0   \n",
       "2                        0                                     0   \n",
       "3                        0                                     0   \n",
       "4                        0                                     0   \n",
       "\n",
       "   MonthlyIncome  NumberOfDependents  \n",
       "0         8158.0                 0.0  \n",
       "1            NaN                 0.0  \n",
       "2         6666.0                 0.0  \n",
       "3        10500.0                 2.0  \n",
       "4          400.0                 0.0  "
      ]
     },
     "execution_count": 4,
     "metadata": {},
     "output_type": "execute_result"
    }
   ],
   "source": [
    "data = pd.read_csv('../../data/credit_scoring_sample.csv', sep =';')\n",
    "data.head()"
   ]
  },
  {
   "cell_type": "markdown",
   "metadata": {},
   "source": [
    "Look at the variable types:"
   ]
  },
  {
   "cell_type": "code",
   "execution_count": 5,
   "metadata": {},
   "outputs": [
    {
     "data": {
      "text/plain": [
       "SeriousDlqin2yrs                          int64\n",
       "age                                       int64\n",
       "NumberOfTime30-59DaysPastDueNotWorse      int64\n",
       "DebtRatio                               float64\n",
       "NumberOfTimes90DaysLate                   int64\n",
       "NumberOfTime60-89DaysPastDueNotWorse      int64\n",
       "MonthlyIncome                           float64\n",
       "NumberOfDependents                      float64\n",
       "dtype: object"
      ]
     },
     "execution_count": 5,
     "metadata": {},
     "output_type": "execute_result"
    }
   ],
   "source": [
    "data.dtypes"
   ]
  },
  {
   "cell_type": "markdown",
   "metadata": {},
   "source": [
    "Check the class balance:"
   ]
  },
  {
   "cell_type": "code",
   "execution_count": 6,
   "metadata": {},
   "outputs": [
    {
     "name": "stdout",
     "output_type": "stream",
     "text": [
      "Distribution of the target:\n"
     ]
    },
    {
     "data": {
      "text/plain": [
       "0    0.777511\n",
       "1    0.222489\n",
       "Name: SeriousDlqin2yrs, dtype: float64"
      ]
     },
     "execution_count": 6,
     "metadata": {},
     "output_type": "execute_result"
    },
    {
     "data": {
      "image/png": "[encoded data removed]",
      "text/plain": [
       "<Figure size 792x576 with 1 Axes>"
      ]
     },
     "metadata": {},
     "output_type": "display_data"
    }
   ],
   "source": [
    "ax = data['SeriousDlqin2yrs'].hist(orientation='vertical', color='red')\n",
    "ax.set_xlabel(\"number_of_observations\")\n",
    "ax.set_ylabel(\"unique_value\")\n",
    "ax.set_title(\"Target distribution\")\n",
    "\n",
    "print('Distribution of the target:')\n",
    "data['SeriousDlqin2yrs'].value_counts()/data.shape[0]"
   ]
  },
  {
   "cell_type": "markdown",
   "metadata": {},
   "source": [
    "Separate the input variable names by excluding the target:"
   ]
  },
  {
   "cell_type": "code",
   "execution_count": 7,
   "metadata": {},
   "outputs": [
    {
     "data": {
      "text/plain": [
       "['age',\n",
       " 'NumberOfTime30-59DaysPastDueNotWorse',\n",
       " 'DebtRatio',\n",
       " 'NumberOfTimes90DaysLate',\n",
       " 'NumberOfTime60-89DaysPastDueNotWorse',\n",
       " 'MonthlyIncome',\n",
       " 'NumberOfDependents']"
      ]
     },
     "execution_count": 7,
     "metadata": {},
     "output_type": "execute_result"
    }
   ],
   "source": [
    "independent_columns_names = [x for x in data if x != 'SeriousDlqin2yrs']\n",
    "independent_columns_names"
   ]
  },
  {
   "cell_type": "markdown",
   "metadata": {},
   "source": [
    "Apply the function to replace *NaN* values:"
   ]
  },
  {
   "cell_type": "code",
   "execution_count": 8,
   "metadata": {},
   "outputs": [],
   "source": [
    "table = fill_nan(data)"
   ]
  },
  {
   "cell_type": "markdown",
   "metadata": {},
   "source": [
    "Separate the target variable and input features:"
   ]
  },
  {
   "cell_type": "code",
   "execution_count": 9,
   "metadata": {},
   "outputs": [],
   "source": [
    "X = table[independent_columns_names]\n",
    "y = table['SeriousDlqin2yrs']"
   ]
  },
  {
   "cell_type": "markdown",
   "metadata": {},
   "source": [
    "## Bootstrapping"
   ]
  },
  {
   "cell_type": "markdown",
   "metadata": {},
   "source": [
    "**Question 2.** Make an interval estimate of the average age for the customers who delayed repayment at the 90% confidence level. Use the example from the article as reference, if needed. Also, use `np.random.seed(0)` as before. What is the resulting interval estimate?\n",
    "\n",
    "1. 52.59 – 52.86\n",
    "2. 45.71 – 46.13\n",
    "3. 45.68 – 46.17\n",
    "4. 52.56 – 52.88"
   ]
  },
  {
   "cell_type": "code",
   "execution_count": 64,
   "metadata": {},
   "outputs": [
    {
     "name": "stdout",
     "output_type": "stream",
     "text": [
      "The average age interval for the customers who delayed repayment at 90% confidence level is [45.71435767 46.14836924]\n",
      "The closest correct answer is 2.\n"
     ]
    }
   ],
   "source": [
    "def get_bootstrap_samples(data, n_samples):\n",
    "    \"\"\"Generate bootstrap samples using the bootstrap method.\"\"\"\n",
    "    indices = np.random.randint(0, len(data), (n_samples, len(data)))\n",
    "    samples = data[indices]\n",
    "    return samples\n",
    "\n",
    "def stat_intervals(stat, alpha):\n",
    "    \"\"\"Produce an interval estimate.\"\"\"\n",
    "    boundaries = np.percentile(stat, [100 * alpha / 2., 100 * (1 - alpha / 2.)])\n",
    "    return boundaries\n",
    "\n",
    "# Save the data about the loyal and former customers to split the dataset\n",
    "age_of_delayed_repayment_customers = data[data['SeriousDlqin2yrs'] == 1]['age'].values\n",
    "\n",
    "# Generate the samples using bootstrapping and calculate the mean for each of them\n",
    "age_mean_scores = [np.mean(sample) for sample in get_bootstrap_samples(age_of_delayed_repayment_customers, 1000)]\n",
    "\n",
    "#alpha value 0.1 for 90% confidence level\n",
    "\n",
    "print(\"The average age interval for the customers who delayed repayment at 90% confidence level is\",\n",
    "      stat_intervals(age_mean_scores, 0.1))\n",
    "print('The closest correct answer is 2.')"
   ]
  },
  {
   "cell_type": "markdown",
   "metadata": {},
   "source": [
    "## Logistic regression"
   ]
  },
  {
   "cell_type": "markdown",
   "metadata": {},
   "source": [
    "Let's set up to use logistic regression:"
   ]
  },
  {
   "cell_type": "code",
   "execution_count": 67,
   "metadata": {},
   "outputs": [],
   "source": [
    "from sklearn.linear_model import LogisticRegression\n",
    "from sklearn.model_selection import GridSearchCV, StratifiedKFold\n",
    "from sklearn.metrics import confusion_matrix, roc_auc_score"
   ]
  },
  {
   "cell_type": "markdown",
   "metadata": {},
   "source": [
    "Now, we will create a `LogisticRegression` model and use `class_weight='balanced'` to make up for our unbalanced classes."
   ]
  },
  {
   "cell_type": "code",
   "execution_count": 68,
   "metadata": {},
   "outputs": [],
   "source": [
    "lr = LogisticRegression(random_state=5, class_weight='balanced')"
   ]
  },
  {
   "cell_type": "markdown",
   "metadata": {},
   "source": [
    "Let's try to find the best regularization coefficient, which is the coefficient `C` for logistic regression. Then, we will have an optimal model that is not overfit and is a good predictor of the target variable."
   ]
  },
  {
   "cell_type": "code",
   "execution_count": 69,
   "metadata": {},
   "outputs": [],
   "source": [
    "parameters = {'C': (0.0001, 0.001, 0.01, 0.1, 1, 10)}"
   ]
  },
  {
   "cell_type": "markdown",
   "metadata": {},
   "source": [
    "In order to find the optimal value of `C`, let's apply stratified 5-fold validation and look at the *ROC AUC* against different values of the parameter `C`. Use the `StratifiedKFold` function for this: "
   ]
  },
  {
   "cell_type": "code",
   "execution_count": 70,
   "metadata": {},
   "outputs": [
    {
     "name": "stdout",
     "output_type": "stream",
     "text": [
      "1 of KFold 5\n",
      "ROC AUC score 0.695072001787768 for coeff 0.0001:\n",
      "ROC AUC score 0.7285033349844566 for coeff 0.001:\n",
      "ROC AUC score 0.7323832968947495 for coeff 0.01:\n",
      "ROC AUC score 0.71518190112618 for coeff 0.1:\n",
      "ROC AUC score 0.7237788804245093 for coeff 1:\n",
      "ROC AUC score 0.7154312776847833 for coeff 10:\n",
      "1 of KFold 5\n",
      "ROC AUC score 0.6990260151561736 for coeff 0.0001:\n",
      "ROC AUC score 0.7262242866008496 for coeff 0.001:\n",
      "ROC AUC score 0.7188233041824662 for coeff 0.01:\n",
      "ROC AUC score 0.7191073400972454 for coeff 0.1:\n",
      "ROC AUC score 0.7198853963834706 for coeff 1:\n",
      "ROC AUC score 0.7266449316207197 for coeff 10:\n",
      "1 of KFold 5\n",
      "ROC AUC score 0.7010711834810966 for coeff 0.0001:\n",
      "ROC AUC score 0.7160063978181056 for coeff 0.001:\n",
      "ROC AUC score 0.7192124923929508 for coeff 0.01:\n",
      "ROC AUC score 0.7193903874220068 for coeff 0.1:\n",
      "ROC AUC score 0.7193903874220068 for coeff 1:\n",
      "ROC AUC score 0.7193903874220068 for coeff 10:\n",
      "1 of KFold 5\n",
      "ROC AUC score 0.7046445538786116 for coeff 0.0001:\n",
      "ROC AUC score 0.724213228880133 for coeff 0.001:\n",
      "ROC AUC score 0.7255983418078181 for coeff 0.01:\n",
      "ROC AUC score 0.7257756137699137 for coeff 0.1:\n",
      "ROC AUC score 0.7260249903285172 for coeff 1:\n",
      "ROC AUC score 0.7260249903285172 for coeff 10:\n",
      "1 of KFold 5\n",
      "ROC AUC score 0.7036870148020844 for coeff 0.0001:\n",
      "ROC AUC score 0.7340935872107942 for coeff 0.001:\n",
      "ROC AUC score 0.7350520516177802 for coeff 0.01:\n",
      "ROC AUC score 0.7232609214796604 for coeff 0.1:\n",
      "ROC AUC score 0.7208835339936159 for coeff 1:\n",
      "ROC AUC score 0.7232609214796604 for coeff 10:\n"
     ]
    }
   ],
   "source": [
    "skf = StratifiedKFold(n_splits=5,shuffle=True,random_state=5)\n",
    "pred_test_full =0\n",
    "cv_score =[]\n",
    "i=1\n",
    "for train_index,test_index in skf.split(X,y):\n",
    "    print('{} of KFold {}'.format(i,skf.n_splits))\n",
    "    xtr,xvl = X.loc[train_index],X.loc[test_index]\n",
    "    ytr,yvl = y.loc[train_index],y.loc[test_index]\n",
    "    \n",
    "    #model\n",
    "    for coeff in parameters['C']:\n",
    "        lr = lr = LogisticRegression(random_state=5, class_weight='balanced', C=coeff)\n",
    "        lr.fit(xtr,ytr)\n",
    "        score = roc_auc_score(yvl,lr.predict(xvl))\n",
    "        print('ROC AUC score {} for coeff {}:'.format(score, coeff))\n",
    "        cv_score.append(score)    "
   ]
  },
  {
   "cell_type": "markdown",
   "metadata": {},
   "source": [
    "One of the important metrics of model quality is the *Area Under the Curve (AUC)*. *ROC AUC* varies from 0 to 1. The closer ROC AUC is to 1, the better the quality of the classification model."
   ]
  },
  {
   "cell_type": "markdown",
   "metadata": {},
   "source": [
    "**Question 3.** Perform a *Grid Search* with the scoring metric \"roc_auc\" for the parameter `C`. Which value of the parameter `C` is optimal? \n",
    "\n",
    "1. 0.0001\n",
    "2. 0.001\n",
    "3. 0.01\n",
    "4. 0.1\n",
    "5. 1\n",
    "6. 10"
   ]
  },
  {
   "cell_type": "code",
   "execution_count": 74,
   "metadata": {},
   "outputs": [
    {
     "name": "stdout",
     "output_type": "stream",
     "text": [
      "The optimal value of C is {'C': 0.001}\n"
     ]
    }
   ],
   "source": [
    "from sklearn.model_selection import GridSearchCV\n",
    "\n",
    "clf = GridSearchCV(lr, parameters, scoring='roc_auc', refit=True, cv=5)\n",
    "\n",
    "clf.fit(X,y)\n",
    "print('The optimal value of C is {}'.format(clf.best_params_))"
   ]
  },
  {
   "cell_type": "markdown",
   "metadata": {},
   "source": [
    "**Question 4.** Can we consider the best model stable? The model is *stable* if the standard deviation on validation is less than 0.5%. Save the *ROC AUC* value of the best model; it will be useful for the following tasks.\n",
    "\n",
    "1. Yes\n",
    "2. No"
   ]
  },
  {
   "cell_type": "code",
   "execution_count": 72,
   "metadata": {},
   "outputs": [
    {
     "name": "stdout",
     "output_type": "stream",
     "text": [
      "The ROC AUC value is 0.8042\n"
     ]
    }
   ],
   "source": [
    "roc_auc_best_score_lr = clf.best_score_\n",
    "print('The ROC AUC value is {:.4}'.format(roc_auc_best_score_lr))\n",
    "print('Not too sure how to calc standard deviation on validation')"
   ]
  },
  {
   "cell_type": "markdown",
   "metadata": {},
   "source": [
    "## Feature importance\n",
    "\n",
    "**Question 5.** *Feature importance* is defined by the absolute value of its corresponding coefficient. First, you need to normalize all of the feature values so that it will be valid to compare them. What is the most important feature for the best logistic regression model?\n",
    "\n",
    "1. age\n",
    "2. NumberOfTime30-59DaysPastDueNotWorse\n",
    "3. DebtRatio\n",
    "4. NumberOfTimes90DaysLate\n",
    "5. NumberOfTime60-89DaysPastDueNotWorse\n",
    "6. MonthlyIncome\n",
    "7. NumberOfDependents"
   ]
  },
  {
   "cell_type": "code",
   "execution_count": 85,
   "metadata": {},
   "outputs": [
    {
     "name": "stdout",
     "output_type": "stream",
     "text": [
      "{'DebtRatio': -0.02409605224751083,\n",
      " 'MonthlyIncome': -0.16314631733039306,\n",
      " 'NumberOfDependents': 0.10144319526520428,\n",
      " 'NumberOfTime30-59DaysPastDueNotWorse': 0.7234269813289962,\n",
      " 'NumberOfTime60-89DaysPastDueNotWorse': 0.19355763717568433,\n",
      " 'NumberOfTimes90DaysLate': 0.5167876396300681,\n",
      " 'age': -0.41670229389926805}\n",
      "Looking at feature coeff dict, the most important feature is NumberOfTime30-59DaysPastDueNotWorse.\n"
     ]
    }
   ],
   "source": [
    "import pprint\n",
    "\n",
    "from sklearn.preprocessing import StandardScaler\n",
    "lr = LogisticRegression(C=0.001, random_state=5, class_weight='balanced')\n",
    "scal = StandardScaler()\n",
    "lr.fit(scal.fit_transform(X), y)\n",
    "feature_coeff_dict = dict(zip(independent_columns_names, lr.coef_.flatten().tolist()))\n",
    "pprint.pprint(feature_coeff_dict)\n",
    "\n",
    "print('Looking at feature coeff dict, the most important feature is NumberOfTime30-59DaysPastDueNotWorse.')"
   ]
  },
  {
   "cell_type": "markdown",
   "metadata": {},
   "source": [
    "**Question 6.** Calculate how much `DebtRatio` affects our prediction using the [softmax function](https://en.wikipedia.org/wiki/Softmax_function). What is its value?\n",
    "\n",
    "1. 0.38\n",
    "2. -0.02\n",
    "3. 0.11\n",
    "4. 0.24"
   ]
  },
  {
   "cell_type": "code",
   "execution_count": 18,
   "metadata": {},
   "outputs": [
    {
     "name": "stdout",
     "output_type": "stream",
     "text": [
      "[0.0771617  0.24129794 0.11426375 0.19625073 0.14204772 0.09943052\n",
      " 0.12954763]\n",
      "0.11426375283065268\n",
      "The correct answer is 3 - 0.11\n"
     ]
    }
   ],
   "source": [
    "# softmax function from https://stackoverflow.com/questions/34968722/how-to-implement-the-softmax-function-in-python\n",
    "# e ^ x / sum(e ^ x)\n",
    "softmax_output = np.exp(lr.coef_[0]) / np.sum(np.exp(lr.coef_[0]))\n",
    "print(softmax_output)\n",
    "print(softmax_output[2]) # index of 'DebtRatio'\n",
    "\n",
    "print('The correct answer is 3 - {:.2}'.format(softmax_output[2]))"
   ]
  },
  {
   "cell_type": "markdown",
   "metadata": {},
   "source": [
    "**Question 7.** Let's see how we can interpret the impact of our features. For this, recalculate the logistic regression with absolute values, that is without scaling. Next, modify the customer's age by adding 20 years, keeping the other features unchanged. How many times will the chance that the customer will not repay their debt increase? You can find an example of the theoretical calculation [here](https://www.unm.edu/~schrader/biostat/bio2/Spr06/lec11.pdf).\n",
    "\n",
    "1. -0.01\n",
    "2. 0.70\n",
    "3. 8.32\n",
    "4. 0.66"
   ]
  },
  {
   "cell_type": "code",
   "execution_count": 19,
   "metadata": {},
   "outputs": [
    {
     "name": "stdout",
     "output_type": "stream",
     "text": [
      "{'DebtRatio': -6.493879385085218e-06,\n",
      " 'MonthlyIncome': -1.1478366408456345e-05,\n",
      " 'NumberOfDependents': 0.19172613684183543,\n",
      " 'NumberOfTime30-59DaysPastDueNotWorse': 0.4468323405710366,\n",
      " 'NumberOfTime60-89DaysPastDueNotWorse': 0.21603824437811753,\n",
      " 'NumberOfTimes90DaysLate': 0.3903808107922781,\n",
      " 'age': -0.01365552423017368}\n"
     ]
    }
   ],
   "source": [
    "\n",
    "lr = LogisticRegression(C=0.001, random_state=5, class_weight='balanced')\n",
    "lr.fit(X, y)\n",
    "feature_coeff_dict_lr = dict(zip(independent_columns_names, lr.coef_.flatten().tolist()))\n",
    "pprint.pprint(feature_coeff_dict_lr)\n",
    "\n",
    "# Not sure about the second part of the problem"
   ]
  },
  {
   "cell_type": "markdown",
   "metadata": {},
   "source": [
    "## Random Forest"
   ]
  },
  {
   "cell_type": "markdown",
   "metadata": {},
   "source": [
    "Import the Random Forest classifier:"
   ]
  },
  {
   "cell_type": "code",
   "execution_count": 76,
   "metadata": {},
   "outputs": [],
   "source": [
    "from sklearn.ensemble import RandomForestClassifier"
   ]
  },
  {
   "cell_type": "markdown",
   "metadata": {},
   "source": [
    "Initialize Random Forest with 100 trees and balance target classes:"
   ]
  },
  {
   "cell_type": "code",
   "execution_count": 77,
   "metadata": {},
   "outputs": [],
   "source": [
    "rf = RandomForestClassifier(n_estimators=100, n_jobs=-1, random_state=42, \n",
    "                            class_weight='balanced')"
   ]
  },
  {
   "cell_type": "markdown",
   "metadata": {},
   "source": [
    "We will search for the best parameters among the following values:"
   ]
  },
  {
   "cell_type": "code",
   "execution_count": 78,
   "metadata": {},
   "outputs": [],
   "source": [
    "parameters = {'max_features': [1, 2, 4], 'min_samples_leaf': [3, 5, 7, 9], 'max_depth': [5,10,15]}"
   ]
  },
  {
   "cell_type": "markdown",
   "metadata": {},
   "source": [
    "Also, we will use the stratified k-fold validation again. You should still have the `skf` variable."
   ]
  },
  {
   "cell_type": "markdown",
   "metadata": {},
   "source": [
    "**Question 8.** How much higher is the *ROC AUC* of the best random forest model than that of the best logistic regression on validation?\n",
    "\n",
    "1. 4%\n",
    "2. 3%\n",
    "3. 2%\n",
    "4. 1%"
   ]
  },
  {
   "cell_type": "code",
   "execution_count": 79,
   "metadata": {},
   "outputs": [],
   "source": [
    "rf_grid_search = GridSearchCV(rf, parameters, scoring='roc_auc', cv=skf)\n",
    "rf_grid_search.fit(X, y)\n",
    "rf_roc_auc = rf_grid_search.best_score_\n"
   ]
  },
  {
   "cell_type": "code",
   "execution_count": 81,
   "metadata": {},
   "outputs": [
    {
     "name": "stdout",
     "output_type": "stream",
     "text": [
      "rf_roc_auc 0.8357174834725474\n",
      "3.777087474192768\n",
      "The ROC AUC for random forest is higher by 3.777087474192768 so the closest answer is 1.\n"
     ]
    }
   ],
   "source": [
    "print('rf_roc_auc', rf_roc_auc)\n",
    "rf_roc_auc_perc = ((rf_roc_auc - roc_auc_best_score_lr)/rf_roc_auc)*100\n",
    "print(rf_roc_auc_perc)\n",
    "print('The ROC AUC for random forest is higher by {} so the closest answer is 1.'.format(rf_roc_auc_perc))"
   ]
  },
  {
   "cell_type": "markdown",
   "metadata": {},
   "source": [
    "**Question 9.** What feature has the weakest impact in the Random Forest model?\n",
    "\n",
    "1. age\n",
    "2. NumberOfTime30-59DaysPastDueNotWorse\n",
    "3. DebtRatio\n",
    "4. NumberOfTimes90DaysLate\n",
    "5. NumberOfTime60-89DaysPastDueNotWorse\n",
    "6. MonthlyIncome\n",
    "7. NumberOfDependents"
   ]
  },
  {
   "cell_type": "code",
   "execution_count": 82,
   "metadata": {},
   "outputs": [
    {
     "name": "stdout",
     "output_type": "stream",
     "text": [
      "NumberOfDependents                      0.011600\n",
      "MonthlyIncome                           0.059142\n",
      "DebtRatio                               0.089620\n",
      "age                                     0.100434\n",
      "NumberOfTime60-89DaysPastDueNotWorse    0.128935\n",
      "NumberOfTime30-59DaysPastDueNotWorse    0.295335\n",
      "NumberOfTimes90DaysLate                 0.314934\n",
      "dtype: float64\n",
      "\"NumberOfDependents\" (Answer - 7) is the least important feature.\n"
     ]
    }
   ],
   "source": [
    "fetaure_importances = rf_grid_search.best_estimator_.feature_importances_\n",
    "\n",
    "feature_imp = pd.Series(fetaure_importances, index=independent_columns_names).sort_values(ascending=True)\n",
    "print(feature_imp)\n",
    "\n",
    "print('\"NumberOfDependents\" (Answer - 7) is the least important feature.')"
   ]
  },
  {
   "cell_type": "markdown",
   "metadata": {},
   "source": [
    "**Question 10.** What is the most significant advantage of using *Logistic Regression* versus *Random Forest* for this problem?\n",
    "\n",
    "1. Spent less time for model fitting;\n",
    "2. Fewer variables to iterate;\n",
    "3. Feature interpretability;\n",
    "4. Linear properties of the algorithm."
   ]
  },
  {
   "cell_type": "code",
   "execution_count": 83,
   "metadata": {},
   "outputs": [
    {
     "name": "stdout",
     "output_type": "stream",
     "text": [
      "I think the time spent on model fitting was less as compared to Random Forest, RF took exceptionally long so the answer is 1.\n"
     ]
    }
   ],
   "source": [
    "print('I think the time spent on model fitting was less as compared to Random Forest, RF took exceptionally long so the answer is 1.')"
   ]
  },
  {
   "cell_type": "markdown",
   "metadata": {},
   "source": [
    "## Bagging"
   ]
  },
  {
   "cell_type": "markdown",
   "metadata": {},
   "source": [
    "Import modules and set up the parameters for bagging:"
   ]
  },
  {
   "cell_type": "code",
   "execution_count": 84,
   "metadata": {},
   "outputs": [],
   "source": [
    "from sklearn.ensemble import BaggingClassifier\n",
    "from sklearn.model_selection import cross_val_score, RandomizedSearchCV\n",
    "\n",
    "parameters = {'max_features': [2, 3, 4], 'max_samples': [0.5, 0.7, 0.9], \n",
    "              'base_estimator__C': [0.0001, 0.001, 0.01, 1, 10, 100]}"
   ]
  },
  {
   "cell_type": "markdown",
   "metadata": {},
   "source": [
    "**Question 11.** Fit a bagging classifier with `random_state=42`. For the base classifiers, use 100 logistic regressors and use `RandomizedSearchCV` instead of `GridSearchCV`. It will take a lot of time to iterate over all 54 variants, so set the maximum number of iterations for `RandomizedSearchCV` to 20. Don't forget to set the parameters `cv` and `random_state=1`. What is the best *ROC AUC* you achieve?\n",
    "\n",
    "1. 80.75%\n",
    "2. 80.12%\n",
    "3. 79.62%\n",
    "4. 76.50%"
   ]
  },
  {
   "cell_type": "code",
   "execution_count": 66,
   "metadata": {},
   "outputs": [
    {
     "data": {
      "text/plain": [
       "RandomizedSearchCV(cv=None, error_score=nan,\n",
       "                   estimator=BaggingClassifier(base_estimator=LogisticRegression(C=1.0,\n",
       "                                                                                 class_weight='balanced',\n",
       "                                                                                 dual=False,\n",
       "                                                                                 fit_intercept=True,\n",
       "                                                                                 intercept_scaling=1,\n",
       "                                                                                 l1_ratio=None,\n",
       "                                                                                 max_iter=100,\n",
       "                                                                                 multi_class='auto',\n",
       "                                                                                 n_jobs=None,\n",
       "                                                                                 penalty='l2',\n",
       "                                                                                 random_state=None,\n",
       "                                                                                 solver='lbfgs',\n",
       "                                                                                 tol=0.0001,\n",
       "                                                                                 verbose=0,\n",
       "                                                                                 warm_start=False),\n",
       "                                               bootstrap=True,\n",
       "                                               bootstr...\n",
       "                                               n_estimators=100, n_jobs=None,\n",
       "                                               oob_score=False, random_state=42,\n",
       "                                               verbose=0, warm_start=False),\n",
       "                   iid='deprecated', n_iter=20, n_jobs=None,\n",
       "                   param_distributions={'base_estimator__C': [0.0001, 0.001,\n",
       "                                                              0.01, 1, 10,\n",
       "                                                              100],\n",
       "                                        'max_features': [2, 3, 4],\n",
       "                                        'max_samples': [0.5, 0.7, 0.9]},\n",
       "                   pre_dispatch='2*n_jobs', random_state=1, refit=True,\n",
       "                   return_train_score=False, scoring='roc_auc', verbose=0)"
      ]
     },
     "execution_count": 66,
     "metadata": {},
     "output_type": "execute_result"
    }
   ],
   "source": [
    "bg_clf = BaggingClassifier(LogisticRegression(class_weight='balanced'), \n",
    "                           n_estimators=100, random_state=42)\n",
    "\n",
    "random_cv = RandomizedSearchCV(bg_clf, parameters, scoring='roc_auc', n_iter=20, random_state=1)\n",
    "random_cv.fit(X,y)\n"
   ]
  },
  {
   "cell_type": "code",
   "execution_count": 86,
   "metadata": {},
   "outputs": [
    {
     "name": "stdout",
     "output_type": "stream",
     "text": [
      "0.807040646303409\n",
      "The closest answer is 1.\n"
     ]
    }
   ],
   "source": [
    "roc_auc_random_cv = random_cv.best_score_\n",
    "print(roc_auc_random_cv)\n",
    "print('The closest answer is 1.')"
   ]
  },
  {
   "cell_type": "markdown",
   "metadata": {},
   "source": [
    "**Question 12.** Give an interpretation of the best parameters for bagging. Why are these values of `max_features` and `max_samples` the best?\n",
    "\n",
    "1. For bagging it's important to use as few features as possible;\n",
    "2. Bagging works better on small samples;\n",
    "3. Less correlation between single models;\n",
    "4. The higher the number of features, the lower the loss of information."
   ]
  },
  {
   "cell_type": "code",
   "execution_count": 87,
   "metadata": {},
   "outputs": [
    {
     "name": "stdout",
     "output_type": "stream",
     "text": [
      "From the bagging document provided in the lecture, it looks like the Bagging works better on small samples so the answer is 2.\n"
     ]
    }
   ],
   "source": [
    "print('From the bagging document provided in the lecture, it looks like the Bagging works better on small samples so the answer is 2.')"
   ]
  },
  {
   "cell_type": "code",
   "execution_count": null,
   "metadata": {},
   "outputs": [],
   "source": []
  }
 ],
 "metadata": {
  "anaconda-cloud": {},
  "kernelspec": {
   "display_name": "Python 3",
   "language": "python",
   "name": "python3"
  },
  "language_info": {
   "codemirror_mode": {
    "name": "ipython",
    "version": 3
   },
   "file_extension": ".py",
   "mimetype": "text/x-python",
   "name": "python",
   "nbconvert_exporter": "python",
   "pygments_lexer": "ipython3",
   "version": "3.7.3"
  }
 },
 "nbformat": 4,
 "nbformat_minor": 4
}
