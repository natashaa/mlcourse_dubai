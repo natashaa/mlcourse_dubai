{
 "cells": [
  {
   "cell_type": "markdown",
   "metadata": {},
   "source": [
    "<center>\n",
    "<img src=\"../../img/ods_stickers.jpg\">\n",
    "    \n",
    "## [mlcourse.ai](https://mlcourse.ai) - Open Machine Learning Course\n",
    "\n",
    "Author: [Yury Kashnitsky](https://www.linkedin.com/in/festline/). Translated and edited by [Sergey Isaev](https://www.linkedin.com/in/isvforall/), [Artem Trunov](https://www.linkedin.com/in/datamove/), [Anastasia Manokhina](https://www.linkedin.com/in/anastasiamanokhina/), and [Yuanyuan Pao](https://www.linkedin.com/in/yuanyuanpao/). All content is distributed under the [Creative Commons CC BY-NC-SA 4.0](https://creativecommons.org/licenses/by-nc-sa/4.0/) license."
   ]
  },
  {
   "cell_type": "markdown",
   "metadata": {},
   "source": [
    "**In this task you should use Pandas to answer a few questions about the [Adult](https://archive.ics.uci.edu/ml/datasets/Adult) dataset. (You don't have to download the data – it's already  in the repository)**"
   ]
  },
  {
   "cell_type": "markdown",
   "metadata": {},
   "source": [
    "Unique values of all features (for more information, please see the links above):\n",
    "- `age`: continuous.\n",
    "- `workclass`: Private, Self-emp-not-inc, Self-emp-inc, Federal-gov, Local-gov, State-gov, Without-pay, Never-worked.\n",
    "- `fnlwgt`: continuous.\n",
    "- `education`: Bachelors, Some-college, 11th, HS-grad, Prof-school, Assoc-acdm, Assoc-voc, 9th, 7th-8th, 12th, Masters, 1st-4th, 10th, Doctorate, 5th-6th, Preschool.\n",
    "- `education-num`: continuous.\n",
    "- `marital-status`: Married-civ-spouse, Divorced, Never-married, Separated, Widowed, Married-spouse-absent, Married-AF-spouse.\n",
    "- `occupation`: Tech-support, Craft-repair, Other-service, Sales, Exec-managerial, Prof-specialty, Handlers-cleaners, Machine-op-inspct, Adm-clerical, Farming-fishing, Transport-moving, Priv-house-serv, Protective-serv, Armed-Forces.\n",
    "- `relationship`: Wife, Own-child, Husband, Not-in-family, Other-relative, Unmarried.\n",
    "- `race`: White, Asian-Pac-Islander, Amer-Indian-Eskimo, Other, Black.\n",
    "- `sex`: Female, Male.\n",
    "- `capital-gain`: continuous.\n",
    "- `capital-loss`: continuous.\n",
    "- `hours-per-week`: continuous.\n",
    "- `native-country`: United-States, Cambodia, England, Puerto-Rico, Canada, Germany, Outlying-US(Guam-USVI-etc), India, Japan, Greece, South, China, Cuba, Iran, Honduras, Philippines, Italy, Poland, Jamaica, Vietnam, Mexico, Portugal, Ireland, France, Dominican-Republic, Laos, Ecuador, Taiwan, Haiti, Columbia, Hungary, Guatemala, Nicaragua, Scotland, Thailand, Yugoslavia, El-Salvador, Trinadad&Tobago, Peru, Hong, Holand-Netherlands.   \n",
    "- `salary`: >50K,<=50K"
   ]
  },
  {
   "cell_type": "code",
   "execution_count": 3,
   "metadata": {
    "ExecuteTime": {
     "end_time": "2020-02-26T19:15:19.285921Z",
     "start_time": "2020-02-26T19:15:18.073149Z"
    }
   },
   "outputs": [],
   "source": [
    "import numpy as np\n",
    "import pandas as pd\n",
    "pd.set_option('display.max.columns', 100)\n",
    "# to draw pictures in jupyter notebook\n",
    "%matplotlib inline \n",
    "import matplotlib.pyplot as plt\n",
    "import seaborn as sns\n",
    "# we don't like warnings\n",
    "# you can comment the following 2 lines if you'd like to\n",
    "import warnings\n",
    "warnings.filterwarnings('ignore')"
   ]
  },
  {
   "cell_type": "code",
   "execution_count": 4,
   "metadata": {},
   "outputs": [
    {
     "data": {
      "text/html": [
       "<div>\n",
       "<style scoped>\n",
       "    .dataframe tbody tr th:only-of-type {\n",
       "        vertical-align: middle;\n",
       "    }\n",
       "\n",
       "    .dataframe tbody tr th {\n",
       "        vertical-align: top;\n",
       "    }\n",
       "\n",
       "    .dataframe thead th {\n",
       "        text-align: right;\n",
       "    }\n",
       "</style>\n",
       "<table border=\"1\" class=\"dataframe\">\n",
       "  <thead>\n",
       "    <tr style=\"text-align: right;\">\n",
       "      <th></th>\n",
       "      <th>age</th>\n",
       "      <th>workclass</th>\n",
       "      <th>fnlwgt</th>\n",
       "      <th>education</th>\n",
       "      <th>education-num</th>\n",
       "      <th>marital-status</th>\n",
       "      <th>occupation</th>\n",
       "      <th>relationship</th>\n",
       "      <th>race</th>\n",
       "      <th>sex</th>\n",
       "      <th>capital-gain</th>\n",
       "      <th>capital-loss</th>\n",
       "      <th>hours-per-week</th>\n",
       "      <th>native-country</th>\n",
       "      <th>salary</th>\n",
       "    </tr>\n",
       "  </thead>\n",
       "  <tbody>\n",
       "    <tr>\n",
       "      <th>0</th>\n",
       "      <td>39</td>\n",
       "      <td>State-gov</td>\n",
       "      <td>77516</td>\n",
       "      <td>Bachelors</td>\n",
       "      <td>13</td>\n",
       "      <td>Never-married</td>\n",
       "      <td>Adm-clerical</td>\n",
       "      <td>Not-in-family</td>\n",
       "      <td>White</td>\n",
       "      <td>Male</td>\n",
       "      <td>2174</td>\n",
       "      <td>0</td>\n",
       "      <td>40</td>\n",
       "      <td>United-States</td>\n",
       "      <td>&lt;=50K</td>\n",
       "    </tr>\n",
       "    <tr>\n",
       "      <th>1</th>\n",
       "      <td>50</td>\n",
       "      <td>Self-emp-not-inc</td>\n",
       "      <td>83311</td>\n",
       "      <td>Bachelors</td>\n",
       "      <td>13</td>\n",
       "      <td>Married-civ-spouse</td>\n",
       "      <td>Exec-managerial</td>\n",
       "      <td>Husband</td>\n",
       "      <td>White</td>\n",
       "      <td>Male</td>\n",
       "      <td>0</td>\n",
       "      <td>0</td>\n",
       "      <td>13</td>\n",
       "      <td>United-States</td>\n",
       "      <td>&lt;=50K</td>\n",
       "    </tr>\n",
       "    <tr>\n",
       "      <th>2</th>\n",
       "      <td>38</td>\n",
       "      <td>Private</td>\n",
       "      <td>215646</td>\n",
       "      <td>HS-grad</td>\n",
       "      <td>9</td>\n",
       "      <td>Divorced</td>\n",
       "      <td>Handlers-cleaners</td>\n",
       "      <td>Not-in-family</td>\n",
       "      <td>White</td>\n",
       "      <td>Male</td>\n",
       "      <td>0</td>\n",
       "      <td>0</td>\n",
       "      <td>40</td>\n",
       "      <td>United-States</td>\n",
       "      <td>&lt;=50K</td>\n",
       "    </tr>\n",
       "    <tr>\n",
       "      <th>3</th>\n",
       "      <td>53</td>\n",
       "      <td>Private</td>\n",
       "      <td>234721</td>\n",
       "      <td>11th</td>\n",
       "      <td>7</td>\n",
       "      <td>Married-civ-spouse</td>\n",
       "      <td>Handlers-cleaners</td>\n",
       "      <td>Husband</td>\n",
       "      <td>Black</td>\n",
       "      <td>Male</td>\n",
       "      <td>0</td>\n",
       "      <td>0</td>\n",
       "      <td>40</td>\n",
       "      <td>United-States</td>\n",
       "      <td>&lt;=50K</td>\n",
       "    </tr>\n",
       "    <tr>\n",
       "      <th>4</th>\n",
       "      <td>28</td>\n",
       "      <td>Private</td>\n",
       "      <td>338409</td>\n",
       "      <td>Bachelors</td>\n",
       "      <td>13</td>\n",
       "      <td>Married-civ-spouse</td>\n",
       "      <td>Prof-specialty</td>\n",
       "      <td>Wife</td>\n",
       "      <td>Black</td>\n",
       "      <td>Female</td>\n",
       "      <td>0</td>\n",
       "      <td>0</td>\n",
       "      <td>40</td>\n",
       "      <td>Cuba</td>\n",
       "      <td>&lt;=50K</td>\n",
       "    </tr>\n",
       "  </tbody>\n",
       "</table>\n",
       "</div>"
      ],
      "text/plain": [
       "   age         workclass  fnlwgt  education  education-num  \\\n",
       "0   39         State-gov   77516  Bachelors             13   \n",
       "1   50  Self-emp-not-inc   83311  Bachelors             13   \n",
       "2   38           Private  215646    HS-grad              9   \n",
       "3   53           Private  234721       11th              7   \n",
       "4   28           Private  338409  Bachelors             13   \n",
       "\n",
       "       marital-status         occupation   relationship   race     sex  \\\n",
       "0       Never-married       Adm-clerical  Not-in-family  White    Male   \n",
       "1  Married-civ-spouse    Exec-managerial        Husband  White    Male   \n",
       "2            Divorced  Handlers-cleaners  Not-in-family  White    Male   \n",
       "3  Married-civ-spouse  Handlers-cleaners        Husband  Black    Male   \n",
       "4  Married-civ-spouse     Prof-specialty           Wife  Black  Female   \n",
       "\n",
       "   capital-gain  capital-loss  hours-per-week native-country salary  \n",
       "0          2174             0              40  United-States  <=50K  \n",
       "1             0             0              13  United-States  <=50K  \n",
       "2             0             0              40  United-States  <=50K  \n",
       "3             0             0              40  United-States  <=50K  \n",
       "4             0             0              40           Cuba  <=50K  "
      ]
     },
     "execution_count": 4,
     "metadata": {},
     "output_type": "execute_result"
    }
   ],
   "source": [
    "data = pd.read_csv('../../data/adult.data.csv')\n",
    "data.head()"
   ]
  },
  {
   "cell_type": "markdown",
   "metadata": {},
   "source": [
    "**1. How many men and women (*sex* feature) are represented in this dataset?** "
   ]
  },
  {
   "cell_type": "code",
   "execution_count": 74,
   "metadata": {},
   "outputs": [
    {
     "name": "stdout",
     "output_type": "stream",
     "text": [
      "There are 21790 men and 10771 women in the dataset.\n"
     ]
    }
   ],
   "source": [
    "men_women_count = data['sex'].value_counts()\n",
    "\n",
    "print('There are {} men and {} women in the dataset.'.format(men_women_count['Male'], men_women_count['Female']))"
   ]
  },
  {
   "cell_type": "markdown",
   "metadata": {},
   "source": [
    "**2. What is the average age (*age* feature) of women?**"
   ]
  },
  {
   "cell_type": "code",
   "execution_count": 81,
   "metadata": {},
   "outputs": [
    {
     "name": "stdout",
     "output_type": "stream",
     "text": [
      "The average age of women is 37.0.\n"
     ]
    }
   ],
   "source": [
    "avg_age_female = data.loc[data['sex'] == 'Female', 'age'].mean().round()\n",
    "\n",
    "print('The average age of women is {}.'.format(avg_age_female))\n"
   ]
  },
  {
   "cell_type": "markdown",
   "metadata": {},
   "source": [
    "**3. What is the percentage of German citizens (*native-country* feature)?**"
   ]
  },
  {
   "cell_type": "code",
   "execution_count": 86,
   "metadata": {},
   "outputs": [
    {
     "name": "stdout",
     "output_type": "stream",
     "text": [
      "The percentage of German citizens is 0.42074874850281013\n"
     ]
    }
   ],
   "source": [
    "percentage_german = data['native-country'].value_counts(normalize=True)['Germany']\n",
    "\n",
    "print('The percentage of German citizens is {}.'.format((percentage_german*100)))\n"
   ]
  },
  {
   "cell_type": "markdown",
   "metadata": {},
   "source": [
    "**4-5. What are the mean and standard deviation of age for those who earn more than 50K per year (*salary* feature) and those who earn less than 50K per year? **"
   ]
  },
  {
   "cell_type": "code",
   "execution_count": 210,
   "metadata": {},
   "outputs": [
    {
     "name": "stdout",
     "output_type": "stream",
     "text": [
      "Mean 44.0 and standard deviation 11.0 for those who earn more than 50K per year\n",
      "Mean 37.0 and standard deviation 14.0 for those who earn less than 50K per year\n"
     ]
    }
   ],
   "source": [
    "\n",
    "salary_less_than_50k = data.loc[data['salary'] == '<=50K']['age']\n",
    "salary_less_than_50k_mean = salary_less_than_50k.mean()\n",
    "salary_less_than_50k_std = salary_less_than_50k.std()\n",
    "\n",
    "salary_more_than_50k = data.loc[data['salary'] == '>50K']['age']\n",
    "salary_more_than_50k_mean = salary_more_than_50k.mean()\n",
    "salary_more_than_50k_std = salary_more_than_50k.std()\n",
    "\n",
    "print('Mean {} and standard deviation {} for those who earn more than 50K per year.'.format(\n",
    "    salary_more_than_50k_mean.round(), salary_more_than_50k_std.round()))\n",
    "print('Mean {} and standard deviation {} for those who earn less than 50K per year.'.format(\n",
    "    salary_less_than_50k_mean.round(), salary_less_than_50k_std.round()))\n"
   ]
  },
  {
   "cell_type": "markdown",
   "metadata": {},
   "source": [
    "**6. Is it true that people who earn more than 50K have at least high school education? (*education – Bachelors, Prof-school, Assoc-acdm, Assoc-voc, Masters* or *Doctorate* feature)**"
   ]
  },
  {
   "cell_type": "code",
   "execution_count": 211,
   "metadata": {},
   "outputs": [
    {
     "name": "stdout",
     "output_type": "stream",
     "text": [
      "Bachelors       2221\n",
      "HS-grad         1675\n",
      "Some-college    1387\n",
      "Masters          959\n",
      "Prof-school      423\n",
      "Assoc-voc        361\n",
      "Doctorate        306\n",
      "Assoc-acdm       265\n",
      "10th              62\n",
      "11th              60\n",
      "7th-8th           40\n",
      "12th              33\n",
      "9th               27\n",
      "5th-6th           16\n",
      "1st-4th            6\n",
      "Name: education, dtype: int64\n",
      "It does not look like that people who earn more than 50K have at least high school education as there are people with education less than that.\n"
     ]
    }
   ],
   "source": [
    "salary_education = data.loc[data['salary'] == '>50K']['education']\n",
    "print(salary_education.value_counts())\n",
    "print('It does not look like that people who earn more than 50K have at least '\n",
    "      'high school education as there are people with education less than that.')"
   ]
  },
  {
   "cell_type": "markdown",
   "metadata": {},
   "source": [
    "**7. Display age statistics for each race (*race* feature) and each gender (*sex* feature). Use *groupby()* and *describe()*. Find the maximum age of men of *Amer-Indian-Eskimo* race.**"
   ]
  },
  {
   "cell_type": "code",
   "execution_count": 212,
   "metadata": {},
   "outputs": [
    {
     "name": "stdout",
     "output_type": "stream",
     "text": [
      "Age stats for each race and each gender :- \\n                             count       mean        std   min   25%   50%  \\\n",
      "race               sex                                                       \n",
      "Amer-Indian-Eskimo Female    119.0  37.117647  13.114991  17.0  27.0  36.0   \n",
      "                   Male      192.0  37.208333  12.049563  17.0  28.0  35.0   \n",
      "Asian-Pac-Islander Female    346.0  35.089595  12.300845  17.0  25.0  33.0   \n",
      "                   Male      693.0  39.073593  12.883944  18.0  29.0  37.0   \n",
      "Black              Female   1555.0  37.854019  12.637197  17.0  28.0  37.0   \n",
      "                   Male     1569.0  37.682600  12.882612  17.0  27.0  36.0   \n",
      "Other              Female    109.0  31.678899  11.631599  17.0  23.0  29.0   \n",
      "                   Male      162.0  34.654321  11.355531  17.0  26.0  32.0   \n",
      "White              Female   8642.0  36.811618  14.329093  17.0  25.0  35.0   \n",
      "                   Male    19174.0  39.652498  13.436029  17.0  29.0  38.0   \n",
      "\n",
      "                             75%   max  \n",
      "race               sex                  \n",
      "Amer-Indian-Eskimo Female  46.00  80.0  \n",
      "                   Male    45.00  82.0  \n",
      "Asian-Pac-Islander Female  43.75  75.0  \n",
      "                   Male    46.00  90.0  \n",
      "Black              Female  46.00  90.0  \n",
      "                   Male    46.00  90.0  \n",
      "Other              Female  39.00  74.0  \n",
      "                   Male    42.00  77.0  \n",
      "White              Female  46.00  90.0  \n",
      "                   Male    49.00  90.0  \n",
      "The maximum age of men of Amer-Indian-Eskimo race is 82.\n"
     ]
    }
   ],
   "source": [
    "data_group = data.groupby(['race', 'sex'])\n",
    "\n",
    "max_age = data_group.get_group(('Amer-Indian-Eskimo', 'Male'))['age'].max()\n",
    "\n",
    "age_stats_per_race_sex = data_group['age'].describe()\n",
    "\n",
    "print('Age stats for each race and each gender :- \\\\n{}'.format(age_stats_per_race_sex))\n",
    "\n",
    "print('The maximum age of men of Amer-Indian-Eskimo race is {}.'.format(max_age))\n"
   ]
  },
  {
   "cell_type": "markdown",
   "metadata": {},
   "source": [
    "**8. Among whom is the proportion of those who earn a lot (>50K) greater: married or single men (*marital-status* feature)? Consider as married those who have a *marital-status* starting with *Married* (Married-civ-spouse, Married-spouse-absent or Married-AF-spouse), the rest are considered bachelors.**"
   ]
  },
  {
   "cell_type": "code",
   "execution_count": 230,
   "metadata": {},
   "outputs": [
    {
     "name": "stdout",
     "output_type": "stream",
     "text": [
      "The number of married men earning more than 50K is 5965\n",
      "The number of single men earning more than 50K is 697\n"
     ]
    }
   ],
   "source": [
    "married_men_bool = (data['sex'] == 'Male') & (data['marital-status'].str.startswith('Married'))\n",
    "\n",
    "married_men_salary = data.loc[married_men_bool]['salary'].value_counts()['>50K']\n",
    "\n",
    "single_men_bool = (data['sex'] == 'Male') & ~(data['marital-status'].str.startswith('Married'))\n",
    "\n",
    "single_men_salary = data.loc[single_men_bool]['salary'].value_counts()['>50K']\n",
    "\n",
    "print('The number of married men earning more than 50K is {}.'.format(married_men_salary))\n",
    "\n",
    "print('The number of single men earning more than 50K is {}.'.format(single_men_salary))\n"
   ]
  },
  {
   "cell_type": "markdown",
   "metadata": {},
   "source": [
    "**9. What is the maximum number of hours a person works per week (*hours-per-week* feature)? How many people work such a number of hours, and what is the percentage of those who earn a lot (>50K) among them?**"
   ]
  },
  {
   "cell_type": "code",
   "execution_count": 206,
   "metadata": {},
   "outputs": [
    {
     "name": "stdout",
     "output_type": "stream",
     "text": [
      "The maximum number of hours a person works per week is 99.\n",
      "The number of people working for 99 is 85.\n",
      "The percentage of people working max and earning more than 50k is 29.411764705882355.\n"
     ]
    }
   ],
   "source": [
    "max_hours_per_week = data['hours-per-week'].max()\n",
    "\n",
    "count_people_working_max = len(data[data['hours-per-week'] == max_hours_per_week])\n",
    "\n",
    "percentage_people = (people_sal_50k/people_count_working_max)*100\n",
    "\n",
    "grouped_data = data.groupby(['hours-per-week', 'salary']).size().unstack()\n",
    "\n",
    "count_people_more_than_50k = grouped_data.loc[max_hours_per_week,'>50K']\n",
    "count_people_less_than_50k = grouped_data.loc[max_hours_per_week,'<=50K']\n",
    "percentage_people = (count_people_more_than_50k/(count_people_less_than_50k + count_people_more_than_50k))*100\n",
    "\n",
    "print('The maximum number of hours a person works per week is {}.'.format(max_hours_per_week))\n",
    "print('The number of people working for {} is {}.'.format(max_hours_per_week, count_people_working_max))\n",
    "print('The percentage of people working max and earning more than 50k is {}.'.format(percentage_people))"
   ]
  },
  {
   "cell_type": "markdown",
   "metadata": {},
   "source": [
    "**10. Count the average time of work (*hours-per-week*) for those who earn a little and a lot (*salary*) for each country (*native-country*). What will these be for Japan?**"
   ]
  },
  {
   "cell_type": "code",
   "execution_count": 248,
   "metadata": {},
   "outputs": [
    {
     "name": "stdout",
     "output_type": "stream",
     "text": [
      "The average time of work for those who earn a little and a lot for each country is as follows :- native-country  salary\n",
      "?               <=50K     40.164760\n",
      "                >50K      45.547945\n",
      "Cambodia        <=50K     41.416667\n",
      "                >50K      40.000000\n",
      "Canada          <=50K     37.914634\n",
      "                            ...    \n",
      "United-States   >50K      45.505369\n",
      "Vietnam         <=50K     37.193548\n",
      "                >50K      39.200000\n",
      "Yugoslavia      <=50K     41.600000\n",
      "                >50K      49.500000\n",
      "Name: hours-per-week, Length: 82, dtype: float64\n",
      "The average time of work Japan is salary\n",
      "<=50K    41.000000\n",
      ">50K     47.958333\n",
      "Name: hours-per-week, dtype: float64\n"
     ]
    }
   ],
   "source": [
    "avg_hours_per_week = data.groupby(['native-country','salary'])['hours-per-week'].mean()\n",
    "\n",
    "avg_hours_per_week_japan = avg_hours_per_week['Japan']\n",
    "\n",
    "print('The average time of work for those who earn a little and a lot for each country is as follows'\n",
    "      ' :- {}'.format(avg_hours_per_week))\n",
    "\n",
    "print('The average time of work Japan is {}'.format(avg_hours_per_week_japan))"
   ]
  },
  {
   "cell_type": "code",
   "execution_count": null,
   "metadata": {},
   "outputs": [],
   "source": []
  }
 ],
 "metadata": {
  "anaconda-cloud": {},
  "hide_input": false,
  "kernelspec": {
   "display_name": "Python 3",
   "language": "python",
   "name": "python3"
  },
  "language_info": {
   "codemirror_mode": {
    "name": "ipython",
    "version": 3
   },
   "file_extension": ".py",
   "mimetype": "text/x-python",
   "name": "python",
   "nbconvert_exporter": "python",
   "pygments_lexer": "ipython3",
<<<<<<< HEAD:jupyter_notebooks/Lecture_01_EDA/topic-1-exploratory-data-analysis-with-pandas-ASSIGNMENT-SOLUTION.ipynb
   "version": "3.7.3"
=======
   "version": "3.7.4"
>>>>>>> upstream/master:jupyter_notebooks/Lecture_01_EDA/topic-1-exploratory-data-analysis-with-pandas-ASSIGNMENT.ipynb
  },
  "toc": {
   "base_numbering": 1,
   "nav_menu": {},
   "number_sections": true,
   "sideBar": true,
   "skip_h1_title": false,
   "title_cell": "Table of Contents",
   "title_sidebar": "Contents",
   "toc_cell": false,
   "toc_position": {},
   "toc_section_display": true,
   "toc_window_display": false
  },
  "varInspector": {
   "cols": {
    "lenName": 16,
    "lenType": 16,
    "lenVar": 40
   },
   "kernels_config": {
    "python": {
     "delete_cmd_postfix": "",
     "delete_cmd_prefix": "del ",
     "library": "var_list.py",
     "varRefreshCmd": "print(var_dic_list())"
    },
    "r": {
     "delete_cmd_postfix": ") ",
     "delete_cmd_prefix": "rm(",
     "library": "var_list.r",
     "varRefreshCmd": "cat(var_dic_list()) "
    }
   },
   "types_to_exclude": [
    "module",
    "function",
    "builtin_function_or_method",
    "instance",
    "_Feature"
   ],
   "window_display": false
  }
 },
 "nbformat": 4,
 "nbformat_minor": 4
}
